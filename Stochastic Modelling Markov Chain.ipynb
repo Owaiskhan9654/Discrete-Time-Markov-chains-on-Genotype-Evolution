{
 "cells": [
  {
   "cell_type": "markdown",
   "metadata": {},
   "source": [
    "   ##      \"The System only remembers its history from previous unit of time\""
   ]
  },
  {
   "cell_type": "markdown",
   "metadata": {},
   "source": [
    "# Genotype Evolution Model"
   ]
  },
  {
   "cell_type": "markdown",
   "metadata": {},
   "source": [
    "The Genotype Evolution Model. Consider a population of two individuals. We represent the state of the population by specifying the genotype of each individual. Thus a state (dd, dd) means both individuals are dominant. There are six possible states of the population: S = {(dd, dd),(dd, dr),(dd, rr),(dr, dr),(dr, rr),(rr, rr)}. For example, suppose the initial state of the population is (dd, dr). When these two in- dividuals produce an offspring, there are four possibilities depending upon which allele from each parent the offspring inherits—namely, dd, dr, dd, dr. Thus the off-spring will be dominant with probability .5, and hybrid with probability .5. Suppose the initial two individuals produce two independent offsprings. Thus the next generation again consists of two individuals. This process is repeated indefinitely. Let Xn be the state of the population in the n-th generation. Then it can be seen that {Xn, n ≥ 0} is a DTMC on state-space S with transition probability matrix given below (where the rows and columns are indexed in the same order as in S):\n",
    "\n",
    "\n",
    "                   [ [1,    0,   0,   0,   0,   0   ],\n",
    "                     [1/4,  1/2, 0,  1/4,  0,   0   ],\n",
    "                P =  [0,     0,  0,   1,   0,   0   ],\n",
    "                     [1/16, 1/4, 1/8, 1/4, 1/4, 1/16],\n",
    "                     [0,    0,   0,   1/4, 1/2, 1/4 ],\n",
    "                     [0,    0,   0,    0,   0,  1   ] ]\n",
    "                     \n",
    "                     \n",
    " Context - Modeling and Analysis of Stochastic Systems  by V.G Kulkarni. Example 2.14 on page 24                   "
   ]
  },
  {
   "cell_type": "markdown",
   "metadata": {},
   "source": [
    "# Abbrevations \n",
    "\n",
    "d -dominant\n",
    "\n",
    "r -recesive\n",
    "\n",
    "State space -S = {(dd,dd),(dd,dr),(dd,rr),(dr,dr),(dr,rr),(rr,rr )}\n",
    "\n",
    "(dd,dd) means both individuals are dominant"
   ]
  },
  {
   "cell_type": "code",
   "execution_count": 1,
   "metadata": {},
   "outputs": [],
   "source": [
    "import numpy as np\n"
   ]
  },
  {
   "cell_type": "code",
   "execution_count": 2,
   "metadata": {},
   "outputs": [],
   "source": [
    " transition_probability_state = {'(dd,dd)': {'(dd,dd)': 1  , '(dd,dr)': 0  , '(dd,rr)': 0  ,'(dr,dr)': 0  ,\n",
    "                                '(dr,rr)': 0  , '(rr,rr)': 0  },\n",
    "                    '(dd,dr)': {'(dd,dd)': 1/4, '(dd,dr)': 1/2, '(dd,rr)': 0  ,'(dr,dr)': 1/4,\n",
    "                                '(dr,rr)': 0  , '(rr,rr)': 0  },\n",
    "                    '(dd,rr)': {'(dd,dd)': 0  , '(dd,dr)': 0  , '(dd,rr)': 0  ,'(dr,dr)': 1  ,\n",
    "                                '(dr,rr)': 0  , '(rr,rr)': 0  },\n",
    "                    '(dr,dr)': {'(dd,dd)': 1/16,'(dd,dr)': 1/4, '(dd,rr)': 1/8,'(dr,dr)': 1/4,\n",
    "                                '(dr,rr)': 1/4, '(rr,rr)': 1/16},\n",
    "                    '(dr,rr)': {'(dd,dd)': 0  , '(dd,dr)': 0  , '(dd,rr)': 0  ,'(dr,dr)': 1/4,\n",
    "                                '(dr,rr)': 1/2, '(rr,rr)': 1/4},\n",
    "                    '(rr,rr)': {'(dd,dd)': 0  , '(dd,dr)': 0  , '(dd,rr)': 0  ,'(dr,dr)': 0  ,\n",
    "                                '(dr,rr)': 0  , '(rr,rr)': 1  }}"
   ]
  },
  {
   "cell_type": "code",
   "execution_count": 3,
   "metadata": {},
   "outputs": [],
   "source": [
    "class MarkovChain(object):\n",
    "    def __init__(self, transition_probability):\n",
    "\n",
    "        self.transition_probability = transition_probability\n",
    "        self.states = list(transition_probability.keys())\n",
    "        \n",
    " \n",
    "    def next_state(self, current_state):\n",
    "\n",
    "        return np.random.choice(\n",
    "            self.states, \n",
    "            p=[self.transition_probability[current_state][next_state] \n",
    "               for next_state in self.states])\n",
    " \n",
    "    def generate_states(self, current_state, no=10):\n",
    "\n",
    "        future_states = []\n",
    "        for i in range(no):\n",
    "            next_state = self.next_state(current_state)\n",
    "            future_states.append(next_state)\n",
    "            current_state = next_state\n",
    "        return future_states"
   ]
  },
  {
   "cell_type": "code",
   "execution_count": 4,
   "metadata": {},
   "outputs": [],
   "source": [
    "DNA_chain = MarkovChain(transition_probability=transition_probability_state)"
   ]
  },
  {
   "cell_type": "code",
   "execution_count": 5,
   "metadata": {},
   "outputs": [
    {
     "data": {
      "text/plain": [
       "'(dr,dr)'"
      ]
     },
     "execution_count": 5,
     "metadata": {},
     "output_type": "execute_result"
    }
   ],
   "source": [
    "DNA_chain.next_state(current_state='(dr,dr)')"
   ]
  },
  {
   "cell_type": "code",
   "execution_count": 11,
   "metadata": {},
   "outputs": [
    {
     "data": {
      "text/plain": [
       "'(dd,dd)'"
      ]
     },
     "execution_count": 11,
     "metadata": {},
     "output_type": "execute_result"
    }
   ],
   "source": [
    "DNA_chain.next_state(current_state='(dd,dd)')"
   ]
  },
  {
   "cell_type": "markdown",
   "metadata": {},
   "source": [
    "### once the population state reaches (dd, dd) or (rr, rr), it stays that way forever ~V.G Kulkarni [Page 25]"
   ]
  },
  {
   "cell_type": "code",
   "execution_count": 7,
   "metadata": {},
   "outputs": [
    {
     "data": {
      "text/plain": [
       "['(dr,rr)',\n",
       " '(rr,rr)',\n",
       " '(rr,rr)',\n",
       " '(rr,rr)',\n",
       " '(rr,rr)',\n",
       " '(rr,rr)',\n",
       " '(rr,rr)',\n",
       " '(rr,rr)',\n",
       " '(rr,rr)',\n",
       " '(rr,rr)']"
      ]
     },
     "execution_count": 7,
     "metadata": {},
     "output_type": "execute_result"
    }
   ],
   "source": [
    "DNA_chain.generate_states(current_state='(dr,dr)', no=10)"
   ]
  },
  {
   "cell_type": "code",
   "execution_count": null,
   "metadata": {},
   "outputs": [],
   "source": []
  },
  {
   "cell_type": "markdown",
   "metadata": {},
   "source": [
    "### Now defining a method so by using Matrix instead of dictionary because It is only increasing indecies and when we have a big transition probability matrix it will be difficult to implement."
   ]
  },
  {
   "cell_type": "code",
   "execution_count": 8,
   "metadata": {},
   "outputs": [],
   "source": [
    "transition_matrix = [[1, 0, 0, 0, 0, 0],\n",
    "                     [1/4,  1/2,  0, 1/4, 0, 0],\n",
    "                     [0,  0,  0, 1, 0, 0],\n",
    "                     [1/16, 1/4, 1/8, 1/4, 1/4, 1/16],\n",
    "                     [0, 0, 0, 1/4, 1/2, 1/4],\n",
    "                     [0, 0, 0, 0, 0, 1]]"
   ]
  },
  {
   "cell_type": "code",
   "execution_count": 9,
   "metadata": {},
   "outputs": [],
   "source": [
    "class MarkovChain(object):\n",
    "    def __init__(self, transition_matrix, states):\n",
    "\n",
    "        self.transition_matrix = np.atleast_2d(transition_matrix)\n",
    "        self.states = states\n",
    "        self.index_dict = {self.states[index]: index for index in \n",
    "                           range(len(self.states))}\n",
    "        self.state_dict = {index: self.states[index] for index in\n",
    "                           range(len(self.states))}\n",
    " \n",
    "    def next_state(self, current_state):\n",
    "\n",
    "        return np.random.choice(\n",
    "         self.states, \n",
    "         p=self.transition_matrix[self.index_dict[current_state], :]\n",
    "        )\n",
    " \n",
    "    def generate_states(self, current_state, no=10):\n",
    "\n",
    "        future_states = []\n",
    "        for i in range(no):\n",
    "            next_state = self.next_state(current_state)\n",
    "            future_states.append(next_state)\n",
    "            current_state = next_state\n",
    "        return future_states"
   ]
  },
  {
   "cell_type": "code",
   "execution_count": 10,
   "metadata": {},
   "outputs": [],
   "source": [
    "DNA_chain = MarkovChain(transition_matrix=transition_matrix,\n",
    "                                states=['(dd,dd)','(dd,dr)','(dd,rr)','(dr,dr)','(dr,rr)','(rr,rr)'])"
   ]
  },
  {
   "cell_type": "code",
   "execution_count": 11,
   "metadata": {},
   "outputs": [
    {
     "data": {
      "text/plain": [
       "'(dd,dd)'"
      ]
     },
     "execution_count": 11,
     "metadata": {},
     "output_type": "execute_result"
    }
   ],
   "source": [
    "DNA_chain.next_state(current_state='(dd,dr)')"
   ]
  },
  {
   "cell_type": "code",
   "execution_count": 12,
   "metadata": {},
   "outputs": [
    {
     "data": {
      "text/plain": [
       "'(dd,dr)'"
      ]
     },
     "execution_count": 12,
     "metadata": {},
     "output_type": "execute_result"
    }
   ],
   "source": [
    "DNA_chain.next_state(current_state='(dd,dr)')"
   ]
  },
  {
   "cell_type": "markdown",
   "metadata": {},
   "source": [
    "### once the population state reaches (dd, dd) or (rr, rr), it stays that way forever ~V.G Kulkarni [Page 25]"
   ]
  },
  {
   "cell_type": "code",
   "execution_count": 10,
   "metadata": {},
   "outputs": [
    {
     "data": {
      "text/plain": [
       "['(dd,dd)',\n",
       " '(dd,dd)',\n",
       " '(dd,dd)',\n",
       " '(dd,dd)',\n",
       " '(dd,dd)',\n",
       " '(dd,dd)',\n",
       " '(dd,dd)',\n",
       " '(dd,dd)',\n",
       " '(dd,dd)',\n",
       " '(dd,dd)']"
      ]
     },
     "execution_count": 10,
     "metadata": {},
     "output_type": "execute_result"
    }
   ],
   "source": [
    "DNA_chain.generate_states(current_state='(dd,dd)', no=10)"
   ]
  },
  {
   "cell_type": "code",
   "execution_count": null,
   "metadata": {},
   "outputs": [],
   "source": []
  },
  {
   "cell_type": "code",
   "execution_count": null,
   "metadata": {},
   "outputs": [],
   "source": []
  }
 ],
 "metadata": {
  "kernelspec": {
   "display_name": "Python 3",
   "language": "python",
   "name": "python3"
  },
  "language_info": {
   "codemirror_mode": {
    "name": "ipython",
    "version": 3
   },
   "file_extension": ".py",
   "mimetype": "text/x-python",
   "name": "python",
   "nbconvert_exporter": "python",
   "pygments_lexer": "ipython3",
   "version": "3.8.3"
  }
 },
 "nbformat": 4,
 "nbformat_minor": 4
}
